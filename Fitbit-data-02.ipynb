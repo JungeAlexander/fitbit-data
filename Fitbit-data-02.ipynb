{
 "cells": [
  {
   "cell_type": "markdown",
   "metadata": {},
   "source": [
    "# Step 2 - Cleaning and visualizing daily step data"
   ]
  },
  {
   "cell_type": "code",
   "execution_count": 1,
   "metadata": {
    "collapsed": false
   },
   "outputs": [],
   "source": [
    "import fitbit\n",
    "from bin.parse_credentials import parse_client_credentials, parse_tokens\n",
    "\n",
    "client_id, client_secret = parse_client_credentials('client_id_secret.txt')\n",
    "\n",
    "!./gather_keys_oauth2.py $client_id $client_secret >access_refresh_tokens.txt 2>/dev/null\n",
    "\n",
    "access_token, refresh_token = parse_tokens('access_refresh_tokens.txt')\n",
    "\n",
    "authd_client = fitbit.Fitbit(client_id, client_secret, oauth2=True,\n",
    "                             access_token=access_token,\n",
    "                             refresh_token=refresh_token)\n",
    "\n",
    "steps_ts = authd_client.time_series('activities/steps', period='3m')\n",
    "steps_ts['activities-steps'][-7]"
   ]
  }
 ],
 "metadata": {
  "kernelspec": {
   "display_name": "Python 3",
   "language": "python",
   "name": "python3"
  },
  "language_info": {
   "codemirror_mode": {
    "name": "ipython",
    "version": 3
   },
   "file_extension": ".py",
   "mimetype": "text/x-python",
   "name": "python",
   "nbconvert_exporter": "python",
   "pygments_lexer": "ipython3",
   "version": "3.5.1"
  }
 },
 "nbformat": 4,
 "nbformat_minor": 0
}
